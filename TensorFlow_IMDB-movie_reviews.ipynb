{
 "cells": [
  {
   "cell_type": "code",
   "execution_count": 23,
   "id": "4e6cc01b",
   "metadata": {},
   "outputs": [],
   "source": [
    "import os\n",
    "os.environ['TF_CPP_MIN_LOG_LEVEL'] = '3'\n",
    "\n",
    "import numpy as np\n",
    "import tensorflow as tf\n",
    "from tensorflow.keras.preprocessing.text import Tokenizer\n",
    "from tensorflow.keras import layers\n",
    "from tensorflow.keras import losses\n",
    "import re\n",
    "import string\n",
    "import matplotlib.pyplot as plt"
   ]
  },
  {
   "cell_type": "code",
   "execution_count": 25,
   "id": "ba9a8116",
   "metadata": {},
   "outputs": [],
   "source": [
    "seed = 42\n",
    "np.random.seed(seed)\n",
    "tf.random.set_seed(seed)\n"
   ]
  },
  {
   "cell_type": "markdown",
   "id": "1094a301",
   "metadata": {},
   "source": [
    "<a name=\"2\"></a>\n",
    "## Load the data\n"
   ]
  },
  {
   "cell_type": "code",
   "execution_count": 26,
   "id": "17ce927b",
   "metadata": {},
   "outputs": [],
   "source": [
    "data_dir = './data/aclImdb'"
   ]
  },
  {
   "cell_type": "code",
   "execution_count": 27,
   "id": "657cfa06",
   "metadata": {},
   "outputs": [
    {
     "name": "stdout",
     "output_type": "stream",
     "text": [
      "Found 5000 files belonging to 2 classes.\n",
      "Using 4000 files for training.\n",
      "Found 5000 files belonging to 2 classes.\n",
      "Using 1000 files for validation.\n",
      "Found 5000 files belonging to 2 classes.\n"
     ]
    }
   ],
   "source": [
    "raw_training_set = tf.keras.utils.text_dataset_from_directory(\n",
    "    f'{data_dir}/train',\n",
    "    labels='inferred',\n",
    "    label_mode='int',\n",
    "    batch_size=32, \n",
    "    validation_split=0.2, \n",
    "    subset='training', \n",
    "    seed=seed\n",
    ")\n",
    "\n",
    "raw_validation_set = tf.keras.utils.text_dataset_from_directory(\n",
    "    f'{data_dir}/train',\n",
    "    labels='inferred',\n",
    "    label_mode='int',\n",
    "    batch_size=32, \n",
    "    validation_split=0.2, \n",
    "    subset='validation', \n",
    "    seed=seed\n",
    ")\n",
    "\n",
    "raw_test_set = tf.keras.utils.text_dataset_from_directory(\n",
    "    f'{data_dir}/test',\n",
    "    labels='inferred',\n",
    "    label_mode='int',\n",
    "    batch_size=32,\n",
    ")"
   ]
  },
  {
   "cell_type": "code",
   "execution_count": 5,
   "id": "b7ca738e",
   "metadata": {},
   "outputs": [
    {
     "name": "stdout",
     "output_type": "stream",
     "text": [
      "Label 0 corresponds to neg\n",
      "Label 1 corresponds to pos\n"
     ]
    }
   ],
   "source": [
    "print(f\"Label 0 corresponds to {raw_training_set.class_names[0]}\")\n",
    "print(f\"Label 1 corresponds to {raw_training_set.class_names[1]}\")"
   ]
  },
  {
   "cell_type": "code",
   "execution_count": 28,
   "id": "67d7e8d5",
   "metadata": {},
   "outputs": [
    {
     "name": "stdout",
     "output_type": "stream",
     "text": [
      "Review:\n",
      " b'This is a reunion, a team, and a great episode of Justice. From hesitation to resolution, Clark has made a important leap from a troubled teenager who was afraid of a controlled destiny, to a Superman who, like Green Arrow, sets aside his emotions to his few loved ones, ready to save the whole planet. This is not just a thrilling story about teamwork, loyalty, and friendship; this is also about deciding what\\'s more important in life, a lesson for Clark. I do not want the series to end, but I hope the ensuing episodes will strictly stick to what Justice shows without any \"rewind\" pushes and put a good end here of Smallville---and a wonderful beginning of Superman.<br /><br />In this episode, however, we should have seen more contrast between Lex and the Team. Nine stars should give it enough credit.'\n",
      "Label: 1\n",
      "\n",
      "Review:\n",
      " b'\"Hey Babu Riba\" is a film about a young woman, Mariana (nicknamed \"Esther\" after a famous American movie star), and four young men, Glenn, Sacha, Kicha, and Pop, all perhaps 15-17 years old in 1953 Belgrade, Yugoslavia. The five are committed friends and crazy about jazz, blue jeans, or anything American it seems.<br /><br />The very close relationship of the teenagers is poignant, and ultimately a sacrifice is willingly made to try to help one of the group who has fallen on unexpected difficulties. In the wake of changing communist politics, they go their separate ways and reunite in 1985 (the year before the film was made).<br /><br />I enjoyed the film with some reservations. The subtitles for one thing were difficult. Especially in the beginning, there were a number of dialogues which had no subtitles at all. Perhaps the conversational pace required it, but I couldn\\'t always both read the text and absorb the scene, which caused me to not always understand which character was involved. I watched the movie (a video from our public library) with a friend, and neither of us really understood part of the story about acquiring streptomycin for a sick relative.<br /><br />This Yugoslavian coming of age film effectively conveyed the teenagers\\' sense of invulnerability, idealism, and strong and loyal bonds to each other. There is a main flashforward, and it was intriguing, keeping me guessing until the end as to who these characters were vis-a-vis the 1953 cast, and what had actually happened.<br /><br />I would rate it 7 out of 10, and would like to see other films by the director, Jovan Acin (1941-1991).'\n",
      "Label: 1\n",
      "\n",
      "Review:\n",
      " b\"No message. No symbolism. No dark undercurrents.Just a wonderful melange of music, nostalgia and good fun put to-gether by people who obviously had a great time doing it. It's a refreshing antidote to some of the pretentious garbage being ground out by the studios. Of course ANYTHING with the incomparable Judi Dench is worth watching. And Cleo Laine's brilliant jazz singing is a bonus. This lady is in the same league as the late Ella. This goes on my movie shelf to be pulled out again anytime I feel the need for a warm experience and a hearty good natured chuckle. Just a wonderful film!\"\n",
      "Label: 1\n",
      "\n"
     ]
    }
   ],
   "source": [
    "for text_batch, label_batch in raw_training_set.take(1):\n",
    "    for i in range(3):\n",
    "        print(f\"Review:\\n {text_batch.numpy()[i]}\")\n",
    "        print(f\"Label: {label_batch.numpy()[i]}\\n\")"
   ]
  },
  {
   "cell_type": "markdown",
   "id": "e9447867",
   "metadata": {},
   "source": [
    "<a name=\"3\"></a>\n",
    "## Prepare the Data\n"
   ]
  },
  {
   "cell_type": "code",
   "execution_count": 29,
   "id": "58dc49af",
   "metadata": {},
   "outputs": [],
   "source": [
    "max_features = 10000\n",
    "\n",
    "def custom_standardization(input_data):\n",
    "    # lowercase\n",
    "    lowercase = tf.strings.lower(input_data)\n",
    "    # Remove HTML tags\n",
    "    stripped_html = tf.strings.regex_replace(lowercase, '<br />', ' ')\n",
    "    # Remove punctuation\n",
    "    replaced = tf.strings.regex_replace(\n",
    "        stripped_html,\n",
    "        '[%s]' % re.escape(string.punctuation),\n",
    "        ''\n",
    "    )\n",
    "    return replaced\n",
    "\n",
    "# convert text to vectors\n",
    "vectorize_layer = layers.TextVectorization(\n",
    "    standardize=custom_standardization,\n",
    "    max_tokens=max_features,\n",
    "    output_mode='int',\n",
    "    output_sequence_length=250)"
   ]
  },
  {
   "cell_type": "code",
   "execution_count": 30,
   "id": "0e419bd0",
   "metadata": {},
   "outputs": [
    {
     "name": "stdout",
     "output_type": "stream",
     "text": [
      "Vocabulary size: 10000\n"
     ]
    }
   ],
   "source": [
    "train_text = raw_training_set.map(lambda x, y: x)\n",
    "vectorize_layer.adapt(train_text)\n",
    "\n",
    "# Print out the vocabulary size\n",
    "print(f\"Vocabulary size: {len(vectorize_layer.get_vocabulary())}\")"
   ]
  },
  {
   "cell_type": "code",
   "execution_count": 31,
   "id": "ccadf578",
   "metadata": {},
   "outputs": [
    {
     "name": "stdout",
     "output_type": "stream",
     "text": [
      "Review:\n",
      "b\"Okay, so the plot is on shaky ground. Yeah, all right, so there are some randomly inserted song and/or dance sequences (for example: Adam's concert and Henri's stage act). And Leslie Caron can't really, um, you know... act.<br /><br />But somehow, 'An American In Paris' manages to come through it all as a polished, first-rate musical--largely on the basis of Gene Kelly's incredible dancing talent and choreography, and the truckloads of charm he seems to be importing into each scene with Caron. (He needs to, because she seems to have a... problem with emoting.) <br /><br />The most accomplished and technically awe-inspiring number in this musical is obviously the 16-minute ballet towards the end of the film. It's stunningly filmed, and Kelly and Caron dance beautifully. But my favourite number would have to be Kelly's character singing 'I Got Rhythm' with a bunch of French school-children, then breaking into an array of American dances. It just goes to prove how you don't need special effects when you've got some real *talent*.<br /><br />Not on the 'classics' level with 'Singin' In The Rain', but pretty high up there nonetheless. Worth the watch!\"\n",
      "\n",
      "Label: pos\n",
      "\n",
      "Vectorized review\n",
      "(<tf.Tensor: shape=(1, 250), dtype=int64, numpy=\n",
      "array([[ 947,   38,    2,  112,    7,   20, 6022, 1754, 1438,   31,  201,\n",
      "          38,   46,   24,   47, 6565, 8919,  603, 2928,  831,  858,   15,\n",
      "         476, 3241, 3010,    4,    1,  892,  478,    4, 3553, 5885,  175,\n",
      "          63, 6992,   21,  118,  478,   18,  813,   33,  329,    8, 1466,\n",
      "        1029,    6,  227,  143,    9,   31,   14,    3, 6590, 9055,    1,\n",
      "          20,    2, 3025,    5, 1996,    1, 1085,  914,  597,    4, 2733,\n",
      "           4,    2,    1,    5, 1411,   27,  190,    6,   26,    1,   77,\n",
      "         244,  130,   16, 5885,   27,  731,    6,   80,   53,  190,    6,\n",
      "          25,    3,  425,   16,    1,    2,   85, 3622,    4, 2603,    1,\n",
      "         593,    8,   10,  663,    7,  506,    2,    1, 4342, 1089,    2,\n",
      "         121,    5,    2,   19,   29, 5994,  886,    4, 1561,    4, 5885,\n",
      "         831, 1415,   18,   55, 1496,  593,   62,   25,    6,   26,    1,\n",
      "         105,  965,   11,  186, 4687,   16,    3,  862,    5, 1001,    1,\n",
      "          96, 2442,   77,   33, 7537,    5,  329, 4825,    9,   41,  264,\n",
      "           6, 2131,   86,   21,   87,  333,  290,  317,   51,  699,  186,\n",
      "          47,  144,  597,   23,   20,    2, 2008,  557,   16, 7714,    8,\n",
      "           2, 2477,   18,  179,  307,   57,   46, 2878,  268,    2,  106,\n",
      "           0,    0,    0,    0,    0,    0,    0,    0,    0,    0,    0,\n",
      "           0,    0,    0,    0,    0,    0,    0,    0,    0,    0,    0,\n",
      "           0,    0,    0,    0,    0,    0,    0,    0,    0,    0,    0,\n",
      "           0,    0,    0,    0,    0,    0,    0,    0,    0,    0,    0,\n",
      "           0,    0,    0,    0,    0,    0,    0,    0,    0,    0,    0,\n",
      "           0,    0,    0,    0,    0,    0,    0,    0]])>, <tf.Tensor: shape=(), dtype=int32, numpy=1>)\n"
     ]
    }
   ],
   "source": [
    "def vectorize_text(text, label):\n",
    "    text = tf.expand_dims(text, -1)\n",
    "    return vectorize_layer(text), label\n",
    "\n",
    "text_batch, label_batch = next(iter(raw_training_set))\n",
    "first_review, first_label = text_batch[0], label_batch[0]\n",
    "\n",
    "print(f\"Review:\\n{first_review}\")\n",
    "print(f\"\\nLabel: {raw_training_set.class_names[first_label]}\")\n",
    "print(f\"\\nVectorized review\\n{vectorize_text(first_review, first_label)}\")"
   ]
  },
  {
   "cell_type": "code",
   "execution_count": 32,
   "id": "cb7441ab",
   "metadata": {},
   "outputs": [],
   "source": [
    "train_ds = raw_training_set.map(vectorize_text)\n",
    "val_ds = raw_validation_set.map(vectorize_text)\n",
    "test_ds = raw_test_set.map(vectorize_text)"
   ]
  },
  {
   "cell_type": "code",
   "execution_count": 33,
   "id": "a19ae806",
   "metadata": {},
   "outputs": [],
   "source": [
    "AUTOTUNE = tf.data.AUTOTUNE\n",
    "\n",
    "train_ds = train_ds.cache().prefetch(buffer_size=AUTOTUNE)\n",
    "test_ds = test_ds.cache().prefetch(buffer_size=AUTOTUNE)"
   ]
  },
  {
   "cell_type": "markdown",
   "id": "5257b6e7",
   "metadata": {},
   "source": [
    "<a name=\"4\"></a>\n",
    "## Sequential Model\n"
   ]
  },
  {
   "cell_type": "code",
   "execution_count": 34,
   "id": "d8eff0fb",
   "metadata": {},
   "outputs": [
    {
     "name": "stdout",
     "output_type": "stream",
     "text": [
      "Model: \"sequential_2\"\n",
      "_________________________________________________________________\n",
      " Layer (type)                Output Shape              Param #   \n",
      "=================================================================\n",
      " embedding_2 (Embedding)     (None, None, 16)          160000    \n",
      "                                                                 \n",
      " global_average_pooling1d_2  (None, 16)                0         \n",
      "  (GlobalAveragePooling1D)                                       \n",
      "                                                                 \n",
      " dense_2 (Dense)             (None, 1)                 17        \n",
      "                                                                 \n",
      "=================================================================\n",
      "Total params: 160017 (625.07 KB)\n",
      "Trainable params: 160017 (625.07 KB)\n",
      "Non-trainable params: 0 (0.00 Byte)\n",
      "_________________________________________________________________\n"
     ]
    }
   ],
   "source": [
    "embedding_dim = 16\n",
    "model_sequential = tf.keras.Sequential([\n",
    "    layers.Embedding(max_features, embedding_dim),\n",
    "    layers.GlobalAveragePooling1D(),\n",
    "    layers.Dense(1, activation='sigmoid')\n",
    "])\n",
    "\n",
    "model_sequential.summary()"
   ]
  },
  {
   "cell_type": "code",
   "execution_count": 35,
   "id": "43d84bf7",
   "metadata": {},
   "outputs": [],
   "source": [
    "model_sequential.compile(loss=losses.BinaryCrossentropy(),\n",
    "              optimizer='adam',\n",
    "              metrics=['accuracy'])"
   ]
  },
  {
   "cell_type": "markdown",
   "id": "b2ab6152",
   "metadata": {},
   "source": [
    "<a name=\"5\"></a>\n",
    "## Model Using Functional API\n"
   ]
  },
  {
   "cell_type": "code",
   "execution_count": 36,
   "id": "00c9f456",
   "metadata": {},
   "outputs": [
    {
     "name": "stdout",
     "output_type": "stream",
     "text": [
      "Model: \"model_1\"\n",
      "_________________________________________________________________\n",
      " Layer (type)                Output Shape              Param #   \n",
      "=================================================================\n",
      " input_2 (InputLayer)        [(None, None)]            0         \n",
      "                                                                 \n",
      " embedding_3 (Embedding)     (None, None, 16)          160000    \n",
      "                                                                 \n",
      " global_average_pooling1d_3  (None, 16)                0         \n",
      "  (GlobalAveragePooling1D)                                       \n",
      "                                                                 \n",
      " dense_3 (Dense)             (None, 1)                 17        \n",
      "                                                                 \n",
      "=================================================================\n",
      "Total params: 160017 (625.07 KB)\n",
      "Trainable params: 160017 (625.07 KB)\n",
      "Non-trainable params: 0 (0.00 Byte)\n",
      "_________________________________________________________________\n"
     ]
    }
   ],
   "source": [
    "inputs = tf.keras.Input(shape=(None,))\n",
    "\n",
    "embedding = layers.Embedding(max_features, embedding_dim)\n",
    "x = embedding(inputs)\n",
    "pooling = layers.GlobalAveragePooling1D()\n",
    "x = pooling(x)\n",
    "\n",
    "outputs = layers.Dense(1, activation='sigmoid')(x)\n",
    "\n",
    "model_functional = tf.keras.Model(inputs=inputs, outputs=outputs)\n",
    "\n",
    "model_functional.summary()"
   ]
  },
  {
   "cell_type": "code",
   "execution_count": 37,
   "id": "d68c2b9f",
   "metadata": {},
   "outputs": [],
   "source": [
    "model_functional.compile(loss=losses.BinaryCrossentropy(),\n",
    "              optimizer='adam',\n",
    "              metrics=['accuracy'])"
   ]
  },
  {
   "cell_type": "markdown",
   "id": "852503ff",
   "metadata": {},
   "source": [
    "<a name=\"6\"></a>\n",
    "## Train the Model\n"
   ]
  },
  {
   "cell_type": "code",
   "execution_count": 38,
   "id": "14b82ea5",
   "metadata": {},
   "outputs": [],
   "source": [
    "model = model_functional # model = model_sequential"
   ]
  },
  {
   "cell_type": "code",
   "execution_count": 18,
   "id": "efd9fcc6",
   "metadata": {},
   "outputs": [
    {
     "name": "stdout",
     "output_type": "stream",
     "text": [
      "Epoch 1/25\n",
      "125/125 - 2s - loss: 0.6909 - accuracy: 0.5265 - val_loss: 0.6880 - val_accuracy: 0.5800 - 2s/epoch - 16ms/step\n",
      "Epoch 2/25\n",
      "125/125 - 1s - loss: 0.6808 - accuracy: 0.7195 - val_loss: 0.6751 - val_accuracy: 0.7270 - 632ms/epoch - 5ms/step\n",
      "Epoch 3/25\n",
      "125/125 - 1s - loss: 0.6614 - accuracy: 0.7525 - val_loss: 0.6538 - val_accuracy: 0.7570 - 739ms/epoch - 6ms/step\n",
      "Epoch 4/25\n",
      "125/125 - 1s - loss: 0.6333 - accuracy: 0.7797 - val_loss: 0.6265 - val_accuracy: 0.7690 - 647ms/epoch - 5ms/step\n",
      "Epoch 5/25\n",
      "125/125 - 1s - loss: 0.6000 - accuracy: 0.7955 - val_loss: 0.5971 - val_accuracy: 0.7830 - 658ms/epoch - 5ms/step\n",
      "Epoch 6/25\n",
      "125/125 - 1s - loss: 0.5647 - accuracy: 0.8117 - val_loss: 0.5682 - val_accuracy: 0.7930 - 636ms/epoch - 5ms/step\n",
      "Epoch 7/25\n",
      "125/125 - 1s - loss: 0.5296 - accuracy: 0.8305 - val_loss: 0.5410 - val_accuracy: 0.8060 - 650ms/epoch - 5ms/step\n",
      "Epoch 8/25\n",
      "125/125 - 1s - loss: 0.4957 - accuracy: 0.8495 - val_loss: 0.5161 - val_accuracy: 0.8160 - 653ms/epoch - 5ms/step\n",
      "Epoch 9/25\n",
      "125/125 - 1s - loss: 0.4637 - accuracy: 0.8680 - val_loss: 0.4934 - val_accuracy: 0.8220 - 639ms/epoch - 5ms/step\n",
      "Epoch 10/25\n",
      "125/125 - 1s - loss: 0.4339 - accuracy: 0.8823 - val_loss: 0.4731 - val_accuracy: 0.8300 - 661ms/epoch - 5ms/step\n",
      "Epoch 11/25\n",
      "125/125 - 1s - loss: 0.4064 - accuracy: 0.8913 - val_loss: 0.4550 - val_accuracy: 0.8360 - 737ms/epoch - 6ms/step\n",
      "Epoch 12/25\n",
      "125/125 - 1s - loss: 0.3811 - accuracy: 0.8997 - val_loss: 0.4390 - val_accuracy: 0.8450 - 653ms/epoch - 5ms/step\n",
      "Epoch 13/25\n",
      "125/125 - 1s - loss: 0.3580 - accuracy: 0.9090 - val_loss: 0.4249 - val_accuracy: 0.8490 - 641ms/epoch - 5ms/step\n",
      "Epoch 14/25\n",
      "125/125 - 1s - loss: 0.3369 - accuracy: 0.9150 - val_loss: 0.4125 - val_accuracy: 0.8540 - 651ms/epoch - 5ms/step\n",
      "Epoch 15/25\n",
      "125/125 - 1s - loss: 0.3177 - accuracy: 0.9210 - val_loss: 0.4016 - val_accuracy: 0.8570 - 643ms/epoch - 5ms/step\n",
      "Epoch 16/25\n",
      "125/125 - 1s - loss: 0.2999 - accuracy: 0.9265 - val_loss: 0.3920 - val_accuracy: 0.8540 - 693ms/epoch - 6ms/step\n",
      "Epoch 17/25\n",
      "125/125 - 1s - loss: 0.2836 - accuracy: 0.9315 - val_loss: 0.3836 - val_accuracy: 0.8580 - 669ms/epoch - 5ms/step\n",
      "Epoch 18/25\n",
      "125/125 - 1s - loss: 0.2685 - accuracy: 0.9358 - val_loss: 0.3762 - val_accuracy: 0.8610 - 658ms/epoch - 5ms/step\n",
      "Epoch 19/25\n",
      "125/125 - 1s - loss: 0.2545 - accuracy: 0.9402 - val_loss: 0.3696 - val_accuracy: 0.8610 - 713ms/epoch - 6ms/step\n",
      "Epoch 20/25\n",
      "125/125 - 1s - loss: 0.2413 - accuracy: 0.9433 - val_loss: 0.3638 - val_accuracy: 0.8600 - 641ms/epoch - 5ms/step\n",
      "Epoch 21/25\n",
      "125/125 - 1s - loss: 0.2291 - accuracy: 0.9488 - val_loss: 0.3587 - val_accuracy: 0.8590 - 625ms/epoch - 5ms/step\n",
      "Epoch 22/25\n",
      "125/125 - 1s - loss: 0.2175 - accuracy: 0.9530 - val_loss: 0.3542 - val_accuracy: 0.8620 - 630ms/epoch - 5ms/step\n",
      "Epoch 23/25\n",
      "125/125 - 1s - loss: 0.2066 - accuracy: 0.9588 - val_loss: 0.3502 - val_accuracy: 0.8610 - 631ms/epoch - 5ms/step\n",
      "Epoch 24/25\n",
      "125/125 - 1s - loss: 0.1964 - accuracy: 0.9613 - val_loss: 0.3468 - val_accuracy: 0.8610 - 610ms/epoch - 5ms/step\n",
      "Epoch 25/25\n",
      "125/125 - 1s - loss: 0.1866 - accuracy: 0.9635 - val_loss: 0.3437 - val_accuracy: 0.8620 - 643ms/epoch - 5ms/step\n"
     ]
    }
   ],
   "source": [
    "epochs = 25\n",
    "history = model.fit(\n",
    "    train_ds,\n",
    "    validation_data=val_ds,\n",
    "    epochs=epochs,\n",
    "    verbose=2\n",
    ")"
   ]
  },
  {
   "cell_type": "markdown",
   "id": "a37e70af",
   "metadata": {},
   "source": [
    "Now you can use `model.evaluate()` to evaluate the model on the test dataset."
   ]
  },
  {
   "cell_type": "code",
   "execution_count": 19,
   "id": "fbca5e66",
   "metadata": {},
   "outputs": [
    {
     "name": "stdout",
     "output_type": "stream",
     "text": [
      "157/157 [==============================] - 1s 6ms/step - loss: 0.3654 - accuracy: 0.8444\n",
      "Loss: 0.3653774559497833\n",
      "Accuracy: 0.8443999886512756\n"
     ]
    }
   ],
   "source": [
    "loss, accuracy = model.evaluate(test_ds)\n",
    "\n",
    "print(f\"Loss: {loss}\")\n",
    "print(f\"Accuracy: {accuracy}\")"
   ]
  },
  {
   "cell_type": "code",
   "execution_count": 20,
   "id": "2f1fc646",
   "metadata": {},
   "outputs": [
    {
     "data": {
      "image/png": "[encoded data removed]",
      "text/plain": [
       "<Figure size 640x480 with 1 Axes>"
      ]
     },
     "metadata": {},
     "output_type": "display_data"
    },
    {
     "data": {
      "image/png": "[encoded data removed]",
      "text/plain": [
       "<Figure size 640x480 with 1 Axes>"
      ]
     },
     "metadata": {},
     "output_type": "display_data"
    }
   ],
   "source": [
    "def plot_metrics(history, metric):\n",
    "    plt.plot(history.history[metric])\n",
    "    plt.plot(history.history[f'val_{metric}'])\n",
    "    plt.xlabel(\"Epochs\")\n",
    "    plt.ylabel(metric.title())\n",
    "    plt.legend([metric, f'val_{metric}'])\n",
    "    plt.show()\n",
    "    \n",
    "plot_metrics(history, \"accuracy\")\n",
    "plot_metrics(history, \"loss\")"
   ]
  },
  {
   "cell_type": "code",
   "execution_count": 39,
   "id": "7b784d92",
   "metadata": {},
   "outputs": [],
   "source": [
    "# a new sequential model using the vectorization layer and the model we just trained.\n",
    "export_model = tf.keras.Sequential([\n",
    "  vectorize_layer,\n",
    "  model]\n",
    ")\n",
    "\n",
    "export_model.compile(\n",
    "    loss=losses.BinaryCrossentropy(from_logits=False), optimizer=\"adam\", metrics=['accuracy']\n",
    ")"
   ]
  },
  {
   "cell_type": "code",
   "execution_count": 22,
   "id": "2a83c32f",
   "metadata": {},
   "outputs": [
    {
     "name": "stdout",
     "output_type": "stream",
     "text": [
      "Result: 0.602,   Label: 1,   Review: this movie was very, very good\n",
      "Result: 0.517,   Label: 1,   Review: quite ok\n",
      "Result: 0.403,   Label: 0,   Review: the movie was not bad\n",
      "Result: 0.449,   Label: 0,   Review: bad\n",
      "Result: 0.410,   Label: 0,   Review: negative disappointed bad scary\n",
      "Result: 0.437,   Label: 0,   Review: this movie was stupid\n"
     ]
    }
   ],
   "source": [
    "examples = ['this movie was very, very good', 'quite ok', 'the movie was not bad', 'bad', 'negative disappointed bad scary', 'this movie was stupid']\n",
    "\n",
    "results = export_model.predict(examples, verbose=False)\n",
    "\n",
    "for result, example in zip(results, examples):\n",
    "    print(f'Result: {result[0]:.3f},   Label: {int(np.round(result[0]))},   Review: {example}')"
   ]
  }
 ],
 "metadata": {
  "kernelspec": {
   "display_name": "Python 3 (ipykernel)",
   "language": "python",
   "name": "python3"
  },
  "language_info": {
   "codemirror_mode": {
    "name": "ipython",
    "version": 3
   },
   "file_extension": ".py",
   "mimetype": "text/x-python",
   "name": "python",
   "nbconvert_exporter": "python",
   "pygments_lexer": "ipython3",
   "version": "3.10.11"
  }
 },
 "nbformat": 4,
 "nbformat_minor": 5
}
